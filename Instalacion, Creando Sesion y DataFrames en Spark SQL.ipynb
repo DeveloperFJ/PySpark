{
 "cells": [
  {
   "cell_type": "markdown",
   "id": "e2c6ce4e",
   "metadata": {},
   "source": [
    "# Instalacion, Creando Sesion y DataFrames en Spark SQL"
   ]
  },
  {
   "cell_type": "code",
   "execution_count": null,
   "id": "0dfb5e9e",
   "metadata": {},
   "outputs": [],
   "source": [
    "## Instalacion de las siguientes Librerias\n",
    "# pip install findspark\n",
    "# pip install pandas\n",
    "# pip install pyspark"
   ]
  },
  {
   "cell_type": "code",
   "execution_count": 29,
   "id": "6444aae7",
   "metadata": {},
   "outputs": [],
   "source": [
    "## Hacemos la importacion de findspark, pandas ,  pyspark\n",
    "import findspark\n",
    "findspark.init()\n",
    "\n",
    "import pandas as pd\n",
    "import pyspark"
   ]
  },
  {
   "cell_type": "code",
   "execution_count": 5,
   "id": "126b35dc",
   "metadata": {},
   "outputs": [],
   "source": [
    "from pyspark.sql import SparkSession\n",
    "from pyspark.sql.functions import *"
   ]
  },
  {
   "cell_type": "markdown",
   "id": "039545b0",
   "metadata": {},
   "source": [
    "# Crear Sesion de Spark"
   ]
  },
  {
   "cell_type": "code",
   "execution_count": 6,
   "id": "2a099cd1",
   "metadata": {},
   "outputs": [],
   "source": [
    "\n",
    "spark = SparkSession.builder\\\n",
    "        .master(\"local[*]\")\\\n",
    "        .appName('PySpark_Developer')\\\n",
    "        .getOrCreate()"
   ]
  },
  {
   "cell_type": "markdown",
   "id": "ce7d3bc5",
   "metadata": {},
   "source": [
    "# Crear el DataFrame"
   ]
  },
  {
   "cell_type": "code",
   "execution_count": 19,
   "id": "652d0228",
   "metadata": {},
   "outputs": [],
   "source": [
    "## Crear estrucutura de coleccion de datos \n",
    "data = [(\"Alice\", 34, \"Col.Pradera\", \"14523652\"),\n",
    "         (\"Bob\", 45, \"Col.Satélite\", \"84512695\"), \n",
    "         (\"Charlie\", 29, \"Col.Bogran\", \"98496251\"),\n",
    "         (\"Alice\", 34, \"Col.Pradera\", \"95847185\"),\n",
    "         (\"Alice\", 34, \"Col.Pradera\", \"14523652\"),\n",
    "         (\"Bob\", 45, \"Col.Satélite\", \"84512695\"), \n",
    "         (\"Charlie\", 29, \"Col.Bogran\", \"98496251\"),\n",
    "         (\"Alice\", 34, \"Col.Pradera\", \"95847185\"),\n",
    "         (\"Charlie\", 29, \"Col.Bogran\", \"95847185\")]\n",
    "columns = [\"Nombre\", \"Edad\", \"Direccion\",\"Dni\"]"
   ]
  },
  {
   "cell_type": "code",
   "execution_count": 20,
   "id": "d9e26185",
   "metadata": {},
   "outputs": [],
   "source": [
    "## Crear el DataFrame\n",
    "df = spark.createDataFrame(data, columns)"
   ]
  },
  {
   "cell_type": "code",
   "execution_count": 21,
   "id": "58248b51",
   "metadata": {},
   "outputs": [
    {
     "name": "stdout",
     "output_type": "stream",
     "text": [
      "+-------+----+------------+--------+\n",
      "| Nombre|Edad|   Direccion|     Dni|\n",
      "+-------+----+------------+--------+\n",
      "|  Alice|  34| Col.Pradera|14523652|\n",
      "|    Bob|  45|Col.Satélite|84512695|\n",
      "|Charlie|  29|  Col.Bogran|98496251|\n",
      "|  Alice|  34| Col.Pradera|95847185|\n",
      "|  Alice|  34| Col.Pradera|14523652|\n",
      "|    Bob|  45|Col.Satélite|84512695|\n",
      "|Charlie|  29|  Col.Bogran|98496251|\n",
      "|  Alice|  34| Col.Pradera|95847185|\n",
      "|Charlie|  29|  Col.Bogran|95847185|\n",
      "+-------+----+------------+--------+\n",
      "\n"
     ]
    }
   ],
   "source": [
    "## Muestra el registro de Datos del DataFrame\n",
    "df.show()\n"
   ]
  },
  {
   "cell_type": "code",
   "execution_count": 22,
   "id": "514be43a",
   "metadata": {},
   "outputs": [
    {
     "data": {
      "text/plain": [
       "9"
      ]
     },
     "execution_count": 22,
     "metadata": {},
     "output_type": "execute_result"
    }
   ],
   "source": [
    "## Cuenta el numero de Filas en el  registro del DataFrame\n",
    "df.count()"
   ]
  },
  {
   "cell_type": "code",
   "execution_count": 24,
   "id": "c2b86748",
   "metadata": {},
   "outputs": [
    {
     "data": {
      "text/plain": [
       "['Nombre', 'Edad', 'Direccion', 'Dni']"
      ]
     },
     "execution_count": 24,
     "metadata": {},
     "output_type": "execute_result"
    }
   ],
   "source": [
    "## Devuelve el nombre de las Columnas\n",
    "df.columns"
   ]
  },
  {
   "cell_type": "code",
   "execution_count": 25,
   "id": "74d787f0",
   "metadata": {},
   "outputs": [
    {
     "data": {
      "text/plain": [
       "[('Nombre', 'string'),\n",
       " ('Edad', 'bigint'),\n",
       " ('Direccion', 'string'),\n",
       " ('Dni', 'string')]"
      ]
     },
     "execution_count": 25,
     "metadata": {},
     "output_type": "execute_result"
    }
   ],
   "source": [
    "## Accede al DataTypes de columnas dentro del Dataframe, Muestra el tipo de datos\n",
    "df.dtypes "
   ]
  },
  {
   "cell_type": "code",
   "execution_count": 26,
   "id": "a4d33331",
   "metadata": {},
   "outputs": [
    {
     "data": {
      "text/plain": [
       "StructType(List(StructField(Nombre,StringType,true),StructField(Edad,LongType,true),StructField(Direccion,StringType,true),StructField(Dni,StringType,true)))"
      ]
     },
     "execution_count": 26,
     "metadata": {},
     "output_type": "execute_result"
    }
   ],
   "source": [
    "## Comprueba como spark almacena el esquema del DataFrame\n",
    "df.schema"
   ]
  },
  {
   "cell_type": "code",
   "execution_count": 27,
   "id": "f4a2c096",
   "metadata": {},
   "outputs": [
    {
     "name": "stdout",
     "output_type": "stream",
     "text": [
      "root\n",
      " |-- Nombre: string (nullable = true)\n",
      " |-- Edad: long (nullable = true)\n",
      " |-- Direccion: string (nullable = true)\n",
      " |-- Dni: string (nullable = true)\n",
      "\n"
     ]
    }
   ],
   "source": [
    "## \n",
    "df.printSchema()"
   ]
  },
  {
   "cell_type": "code",
   "execution_count": 31,
   "id": "fa84761c",
   "metadata": {},
   "outputs": [
    {
     "name": "stdout",
     "output_type": "stream",
     "text": [
      "+--------+-------+----+\n",
      "|     Dni| Nombre|Edad|\n",
      "+--------+-------+----+\n",
      "|14523652|  Alice|  34|\n",
      "|84512695|    Bob|  45|\n",
      "|98496251|Charlie|  29|\n",
      "|95847185|  Alice|  34|\n",
      "|14523652|  Alice|  34|\n",
      "|84512695|    Bob|  45|\n",
      "|98496251|Charlie|  29|\n",
      "|95847185|  Alice|  34|\n",
      "|95847185|Charlie|  29|\n",
      "+--------+-------+----+\n",
      "\n"
     ]
    }
   ],
   "source": [
    "df.select(\"Dni\",\"Nombre\",\"Edad\").show()"
   ]
  }
 ],
 "metadata": {
  "kernelspec": {
   "display_name": "Python 3 (ipykernel)",
   "language": "python",
   "name": "python3"
  },
  "language_info": {
   "codemirror_mode": {
    "name": "ipython",
    "version": 3
   },
   "file_extension": ".py",
   "mimetype": "text/x-python",
   "name": "python",
   "nbconvert_exporter": "python",
   "pygments_lexer": "ipython3",
   "version": "3.10.11"
  }
 },
 "nbformat": 4,
 "nbformat_minor": 5
}
